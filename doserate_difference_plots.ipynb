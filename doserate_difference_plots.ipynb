{
 "cells": [
  {
   "cell_type": "code",
   "execution_count": 1,
   "metadata": {
    "collapsed": true
   },
   "outputs": [],
   "source": [
    "import pandas as pd"
   ]
  },
  {
   "cell_type": "code",
   "execution_count": 2,
   "metadata": {
    "collapsed": true
   },
   "outputs": [],
   "source": [
    "df = pd.read_csv('combined_500m_1hr.csv')"
   ]
  },
  {
   "cell_type": "code",
   "execution_count": 4,
   "metadata": {
    "collapsed": false
   },
   "outputs": [],
   "source": [
    "df23 = df[df.mloc_id == 23]\n",
    "df25 = df[df.mloc_id == 25]"
   ]
  },
  {
   "cell_type": "code",
   "execution_count": 66,
   "metadata": {
    "collapsed": false
   },
   "outputs": [
    {
     "name": "stdout",
     "output_type": "stream",
     "text": [
      "2011-05-06 14:00:00 1.066476\n",
      "2011-05-07 20:00:00 0.75850025\n",
      "2011-06-27 15:00:00 0.46751172043\n",
      "2011-07-07 09:00:00 0.693967619048\n",
      "2011-07-12 08:00:00 0.5956\n",
      "2011-07-22 00:00:00 0.5099285\n",
      "2011-08-13 07:00:00 0.791818636364\n",
      "2011-08-25 08:00:00 0.670884285714\n",
      "2011-09-14 06:00:00 0.5582\n",
      "2011-09-24 07:00:00 0.288143\n",
      "2011-10-15 07:00:00 -0.051035\n",
      "2011-10-15 08:00:00 0.218571366906\n",
      "2011-10-31 10:00:00 0.508239483871\n",
      "2011-10-31 11:00:00 0.552416938776\n",
      "2011-11-05 03:00:00 0.519336363636\n",
      "2011-11-19 06:00:00 0.50865\n",
      "2011-12-19 06:00:00 0.378249130435\n"
     ]
    }
   ],
   "source": [
    "g3 = df23.groupby('mtime')\n",
    "\n",
    "avvals = []\n",
    "for i,g in g3:\n",
    "    f = g.drdiff.mean()\n",
    "    avvals.append((i,f,g.mdr.mean()))\n",
    "    print(i,f)\n",
    "avdf = pd.DataFrame(avvals, columns=['mtime','drdiff','mdr'])\n",
    "avdf.mtime = pd.to_datetime(avdf.mtime)"
   ]
  },
  {
   "cell_type": "code",
   "execution_count": 67,
   "metadata": {
    "collapsed": false
   },
   "outputs": [
    {
     "data": {
      "text/html": [
       "<div>\n",
       "<table border=\"1\" class=\"dataframe\">\n",
       "  <thead>\n",
       "    <tr style=\"text-align: right;\">\n",
       "      <th></th>\n",
       "      <th>mtime</th>\n",
       "      <th>drdiff</th>\n",
       "      <th>mdr</th>\n",
       "    </tr>\n",
       "  </thead>\n",
       "  <tbody>\n",
       "    <tr>\n",
       "      <th>0</th>\n",
       "      <td>2011-05-06 14:00:00</td>\n",
       "      <td>1.066476</td>\n",
       "      <td>1.700</td>\n",
       "    </tr>\n",
       "    <tr>\n",
       "      <th>1</th>\n",
       "      <td>2011-05-07 20:00:00</td>\n",
       "      <td>0.758500</td>\n",
       "      <td>1.700</td>\n",
       "    </tr>\n",
       "    <tr>\n",
       "      <th>2</th>\n",
       "      <td>2011-06-27 15:00:00</td>\n",
       "      <td>0.467512</td>\n",
       "      <td>1.310</td>\n",
       "    </tr>\n",
       "    <tr>\n",
       "      <th>3</th>\n",
       "      <td>2011-07-07 09:00:00</td>\n",
       "      <td>0.693968</td>\n",
       "      <td>1.340</td>\n",
       "    </tr>\n",
       "    <tr>\n",
       "      <th>4</th>\n",
       "      <td>2011-07-12 08:00:00</td>\n",
       "      <td>0.595600</td>\n",
       "      <td>1.310</td>\n",
       "    </tr>\n",
       "    <tr>\n",
       "      <th>5</th>\n",
       "      <td>2011-07-22 00:00:00</td>\n",
       "      <td>0.509929</td>\n",
       "      <td>1.371</td>\n",
       "    </tr>\n",
       "    <tr>\n",
       "      <th>6</th>\n",
       "      <td>2011-08-13 07:00:00</td>\n",
       "      <td>0.791819</td>\n",
       "      <td>1.260</td>\n",
       "    </tr>\n",
       "    <tr>\n",
       "      <th>7</th>\n",
       "      <td>2011-08-25 08:00:00</td>\n",
       "      <td>0.670884</td>\n",
       "      <td>1.200</td>\n",
       "    </tr>\n",
       "    <tr>\n",
       "      <th>8</th>\n",
       "      <td>2011-09-14 06:00:00</td>\n",
       "      <td>0.558200</td>\n",
       "      <td>1.180</td>\n",
       "    </tr>\n",
       "    <tr>\n",
       "      <th>9</th>\n",
       "      <td>2011-09-24 07:00:00</td>\n",
       "      <td>0.288143</td>\n",
       "      <td>1.000</td>\n",
       "    </tr>\n",
       "    <tr>\n",
       "      <th>10</th>\n",
       "      <td>2011-10-15 07:00:00</td>\n",
       "      <td>-0.051035</td>\n",
       "      <td>1.010</td>\n",
       "    </tr>\n",
       "    <tr>\n",
       "      <th>11</th>\n",
       "      <td>2011-10-15 08:00:00</td>\n",
       "      <td>0.218571</td>\n",
       "      <td>1.010</td>\n",
       "    </tr>\n",
       "    <tr>\n",
       "      <th>12</th>\n",
       "      <td>2011-10-31 10:00:00</td>\n",
       "      <td>0.508239</td>\n",
       "      <td>0.996</td>\n",
       "    </tr>\n",
       "    <tr>\n",
       "      <th>13</th>\n",
       "      <td>2011-10-31 11:00:00</td>\n",
       "      <td>0.552417</td>\n",
       "      <td>0.993</td>\n",
       "    </tr>\n",
       "    <tr>\n",
       "      <th>14</th>\n",
       "      <td>2011-11-05 03:00:00</td>\n",
       "      <td>0.519336</td>\n",
       "      <td>0.997</td>\n",
       "    </tr>\n",
       "    <tr>\n",
       "      <th>15</th>\n",
       "      <td>2011-11-19 06:00:00</td>\n",
       "      <td>0.508650</td>\n",
       "      <td>0.980</td>\n",
       "    </tr>\n",
       "    <tr>\n",
       "      <th>16</th>\n",
       "      <td>2011-12-19 06:00:00</td>\n",
       "      <td>0.378249</td>\n",
       "      <td>0.958</td>\n",
       "    </tr>\n",
       "  </tbody>\n",
       "</table>\n",
       "</div>"
      ],
      "text/plain": [
       "                 mtime    drdiff    mdr\n",
       "0  2011-05-06 14:00:00  1.066476  1.700\n",
       "1  2011-05-07 20:00:00  0.758500  1.700\n",
       "2  2011-06-27 15:00:00  0.467512  1.310\n",
       "3  2011-07-07 09:00:00  0.693968  1.340\n",
       "4  2011-07-12 08:00:00  0.595600  1.310\n",
       "5  2011-07-22 00:00:00  0.509929  1.371\n",
       "6  2011-08-13 07:00:00  0.791819  1.260\n",
       "7  2011-08-25 08:00:00  0.670884  1.200\n",
       "8  2011-09-14 06:00:00  0.558200  1.180\n",
       "9  2011-09-24 07:00:00  0.288143  1.000\n",
       "10 2011-10-15 07:00:00 -0.051035  1.010\n",
       "11 2011-10-15 08:00:00  0.218571  1.010\n",
       "12 2011-10-31 10:00:00  0.508239  0.996\n",
       "13 2011-10-31 11:00:00  0.552417  0.993\n",
       "14 2011-11-05 03:00:00  0.519336  0.997\n",
       "15 2011-11-19 06:00:00  0.508650  0.980\n",
       "16 2011-12-19 06:00:00  0.378249  0.958"
      ]
     },
     "execution_count": 67,
     "metadata": {},
     "output_type": "execute_result"
    }
   ],
   "source": [
    "avdf"
   ]
  },
  {
   "cell_type": "code",
   "execution_count": 61,
   "metadata": {
    "collapsed": false
   },
   "outputs": [
    {
     "data": {
      "text/plain": [
       "<matplotlib.text.Text at 0x7f0ee15ec048>"
      ]
     },
     "execution_count": 61,
     "metadata": {},
     "output_type": "execute_result"
    },
    {
     "name": "stderr",
     "output_type": "stream",
     "text": [
      "/usr/local/lib/python3.4/dist-packages/matplotlib/collections.py:590: FutureWarning: elementwise comparison failed; returning scalar instead, but in the future will perform elementwise comparison\n",
      "  if self._edgecolors == str('face'):\n"
     ]
    },
    {
     "data": {
      "image/png": "[encoded data removed]",
      "text/plain": [
       "<matplotlib.figure.Figure at 0x7f0ee16d1978>"
      ]
     },
     "metadata": {},
     "output_type": "display_data"
    }
   ],
   "source": [
    "%matplotlib inline\n",
    "xlims= (734257, 734495)\n",
    "ax = avdf.plot('mtime','drdiff',style='r-o')\n",
    "ax.hlines(0,*ax.get_xlim())\n",
    "ax.hlines(0,*xlims)\n",
    "ax.legend(['MEXT-Safecast Dose Rate'])\n",
    "ax.grid()\n",
    "ax.set_xlabel('')\n",
    "ax.set_xlim(xlims)\n",
    "ax.set_ylabel(r'$\\mu$Sv / hr')\n",
    "ax.set_title('Average Dose Rate Difference MEXT Location 23')"
   ]
  },
  {
   "cell_type": "code",
   "execution_count": 58,
   "metadata": {
    "collapsed": false
   },
   "outputs": [
    {
     "data": {
      "text/plain": [
       "(734263.58333333337, 734490.25)"
      ]
     },
     "execution_count": 58,
     "metadata": {},
     "output_type": "execute_result"
    }
   ],
   "source": [
    "ax.get_xlim()"
   ]
  },
  {
   "cell_type": "code",
   "execution_count": 63,
   "metadata": {
    "collapsed": false
   },
   "outputs": [
    {
     "name": "stdout",
     "output_type": "stream",
     "text": [
      "2011-11-16 10:00:00 -0.0578624050633\n",
      "2011-11-16 11:00:00 -0.0839218181818\n",
      "2011-11-16 12:00:00 -0.0585838285714\n",
      "2011-11-18 04:00:00 -0.0530136363636\n",
      "2011-11-18 05:00:00 -0.0569221518987\n",
      "2011-12-15 23:00:00 -0.0570466666667\n",
      "2011-12-22 23:00:00 -0.0787444444444\n",
      "2011-12-23 02:00:00 -0.0584266666667\n",
      "2011-12-23 03:00:00 -0.115762\n"
     ]
    }
   ],
   "source": [
    "g5 = df25.groupby('mtime')\n",
    "\n",
    "avvals = []\n",
    "for i,g in g5:\n",
    "    f = g.drdiff.mean()\n",
    "    avvals.append((i,f,g.mdr.mean()))\n",
    "    print(i,f)\n",
    "avdf = pd.DataFrame(avvals, columns=['mtime','drdiff','mdr'])\n",
    "avdf.mtime = pd.to_datetime(avdf.mtime)"
   ]
  },
  {
   "cell_type": "code",
   "execution_count": 65,
   "metadata": {
    "collapsed": false
   },
   "outputs": [
    {
     "data": {
      "text/plain": [
       "<matplotlib.text.Text at 0x7f0ee146e860>"
      ]
     },
     "execution_count": 65,
     "metadata": {},
     "output_type": "execute_result"
    },
    {
     "name": "stderr",
     "output_type": "stream",
     "text": [
      "/usr/local/lib/python3.4/dist-packages/matplotlib/collections.py:590: FutureWarning: elementwise comparison failed; returning scalar instead, but in the future will perform elementwise comparison\n",
      "  if self._edgecolors == str('face'):\n"
     ]
    },
    {
     "data": {
      "image/png": "[encoded data removed]",
      "text/plain": [
       "<matplotlib.figure.Figure at 0x7f0ee1648780>"
      ]
     },
     "metadata": {},
     "output_type": "display_data"
    }
   ],
   "source": [
    "%matplotlib inline\n",
    "ax = avdf.plot('mtime','drdiff',style='r-o')\n",
    "xlims= (734455, 734496)\n",
    "ax.hlines(0,*xlims)\n",
    "ax.legend(['MEXT-Safecast Dose Rate'])\n",
    "ax.grid()\n",
    "ax.set_xlabel('')\n",
    "ax.set_ylabel(r'$\\mu$Sv / hr')\n",
    "ax.set_ylim((-0.12,0.03))\n",
    "ax.set_xlim(xlims)\n",
    "ax.set_title('Average Dose Rate Difference MEXT Location 25')"
   ]
  },
  {
   "cell_type": "code",
   "execution_count": 43,
   "metadata": {
    "collapsed": false
   },
   "outputs": [
    {
     "data": {
      "text/plain": [
       "(734457.41666666663, 734494.125)"
      ]
     },
     "execution_count": 43,
     "metadata": {},
     "output_type": "execute_result"
    }
   ],
   "source": [
    "ax.get_xlim()"
   ]
  },
  {
   "cell_type": "code",
   "execution_count": null,
   "metadata": {
    "collapsed": true
   },
   "outputs": [],
   "source": []
  }
 ],
 "metadata": {
  "kernelspec": {
   "display_name": "Python 3",
   "language": "python",
   "name": "python3"
  },
  "language_info": {
   "codemirror_mode": {
    "name": "ipython",
    "version": 3
   },
   "file_extension": ".py",
   "mimetype": "text/x-python",
   "name": "python",
   "nbconvert_exporter": "python",
   "pygments_lexer": "ipython3",
   "version": "3.4.3"
  }
 },
 "nbformat": 4,
 "nbformat_minor": 0
}
