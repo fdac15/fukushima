{
 "cells": [
  {
   "cell_type": "markdown",
   "metadata": {},
   "source": [
    "This script makes some hashes for the mext data:\n",
    "* (lat,long) to m_loc_id\n",
    "* m_loc_id to datetimes at that m_loc_id"
   ]
  },
  {
   "cell_type": "code",
   "execution_count": 1,
   "metadata": {
    "collapsed": true
   },
   "outputs": [],
   "source": [
    "import pandas as pd\n",
    "from datetime import datetime\n",
    "import numpy as np"
   ]
  },
  {
   "cell_type": "code",
   "execution_count": 37,
   "metadata": {
    "collapsed": true
   },
   "outputs": [],
   "source": [
    "mloc_hash = {}\n",
    "i=0\n",
    "with open('mext_loc.csv','r') as f:\n",
    "    for line in f:\n",
    "        l=line.strip().split(',')\n",
    "        l=map(float,l)\n",
    "        mloc_hash[tuple(l)] = i \n",
    "        i+=1\n",
    "# import pickle\n",
    "# pickle.dump(mloc_hash, open('mloc_hash.pkl','wb'))\n",
    "def get_mextloc_id(row,latstr='lat',longstr='long'):\n",
    "    \"\"\"\n",
    "    adds a mloc_id column to a csv by mapping the lat,long pair to \n",
    "    \"\"\"\n",
    "    return mloc_hash[(row[latstr],row[longstr])]\n"
   ]
  },
  {
   "cell_type": "code",
   "execution_count": null,
   "metadata": {
    "collapsed": true
   },
   "outputs": [],
   "source": [
    "# df = pd.read_csv('mext_data.csv')\n",
    "# df['mloc_id'] = df.apply(lambda row: get_mextloc_id(row), axis=1)\n",
    "# df.lat = df.apply(lambda row: round(row['lat'],6),axis=1)\n",
    "# df.long = df.apply(lambda row: round(row['long'],6),axis=1)\n",
    "# df.drop('Unnamed: 0',1).to_csv('mext_data2.csv',index=False)"
   ]
  },
  {
   "cell_type": "code",
   "execution_count": 81,
   "metadata": {
    "collapsed": false
   },
   "outputs": [],
   "source": [
    "#makes a hash that maps each mext location to all the recorded times for that location\n",
    "dfg = df.groupby(['lat','long'])"
   ]
  },
  {
   "cell_type": "code",
   "execution_count": 94,
   "metadata": {
    "collapsed": false
   },
   "outputs": [],
   "source": [
    "mloc2time = {}\n",
    "for loc,group in dfg:\n",
    "    mloc2time[loc] = tuple(set(group['datetime']))\n",
    "# pickle.dump(mloc2time,open('mloc_times_hash.pkl','wb'))"
   ]
  },
  {
   "cell_type": "code",
   "execution_count": 98,
   "metadata": {
    "collapsed": true
   },
   "outputs": [],
   "source": []
  },
  {
   "cell_type": "code",
   "execution_count": null,
   "metadata": {
    "collapsed": true
   },
   "outputs": [],
   "source": []
  }
 ],
 "metadata": {
  "kernelspec": {
   "display_name": "Python 3",
   "language": "python",
   "name": "python3"
  },
  "language_info": {
   "codemirror_mode": {
    "name": "ipython",
    "version": 3
   },
   "file_extension": ".py",
   "mimetype": "text/x-python",
   "name": "python",
   "nbconvert_exporter": "python",
   "pygments_lexer": "ipython3",
   "version": "3.4.0"
  }
 },
 "nbformat": 4,
 "nbformat_minor": 0
}
