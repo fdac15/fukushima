{
 "cells": [
  {
   "cell_type": "markdown",
   "metadata": {},
   "source": [
    "This script makes some hashes for the mext data:\n",
    "* (lat,long) to m_loc_id\n",
    "* m_loc_id to datetimes at that m_loc_id"
   ]
  },
  {
   "cell_type": "code",
   "execution_count": 1,
   "metadata": {
    "collapsed": true
   },
   "outputs": [],
   "source": [
    "import pandas as pd\n",
    "from datetime import datetime\n",
    "import numpy as np"
   ]
  },
  {
   "cell_type": "code",
   "execution_count": 2,
   "metadata": {
    "collapsed": true
   },
   "outputs": [],
   "source": [
    "mloc_hash = {}\n",
    "i=0\n",
    "with open('mext_loc.csv','r') as f:\n",
    "    for line in f:\n",
    "        l=line.strip().split(',')\n",
    "        l=map(float,l)\n",
    "        mloc_hash[tuple(l)] = i \n",
    "        i+=1\n",
    "# import pickle\n",
    "# pickle.dump(mloc_hash, open('mloc_hash.pkl','wb'))\n",
    "def get_mextloc_id(row,latstr='lat',longstr='long'):\n",
    "    \"\"\"\n",
    "    adds a mloc_id column to a csv by mapping the lat,long pair to \n",
    "    \"\"\"\n",
    "    return mloc_hash[(row[latstr],row[longstr])]\n"
   ]
  },
  {
   "cell_type": "code",
   "execution_count": 3,
   "metadata": {
    "collapsed": false
   },
   "outputs": [],
   "source": [
    "df = pd.read_csv('mext_data2.csv')"
   ]
  },
  {
   "cell_type": "code",
   "execution_count": 4,
   "metadata": {
    "collapsed": true
   },
   "outputs": [],
   "source": [
    "\n",
    "# df['mloc_id'] = df.apply(lambda row: get_mextloc_id(row), axis=1)\n",
    "# df.lat = df.apply(lambda row: round(row['lat'],6),axis=1)\n",
    "# df.long = df.apply(lambda row: round(row['long'],6),axis=1)\n",
    "# df.drop('Unnamed: 0',1).to_csv('mext_data2.csv',index=False)"
   ]
  },
  {
   "cell_type": "code",
   "execution_count": 5,
   "metadata": {
    "collapsed": false
   },
   "outputs": [],
   "source": [
    "#makes a hash that maps each mext location to all the recorded times for that location\n",
    "dfg = df.groupby(['lat','long'])"
   ]
  },
  {
   "cell_type": "code",
   "execution_count": null,
   "metadata": {
    "collapsed": false
   },
   "outputs": [],
   "source": [
    "import dateutil.parser\n",
    "mloc2time = {}\n",
    "\n",
    "for loc,group in dfg:\n",
    "    loc = tuple(map(lambda t: round(t,6), loc))\n",
    "    times = map(dateutil.parser.parse,tuple(set(group['datetime'])))\n",
    "    mloc2time[loc] = tuple(times)\n",
    "    mloctime2dr[loc] = \n"
   ]
  },
  {
   "cell_type": "code",
   "execution_count": 32,
   "metadata": {
    "collapsed": false,
    "scrolled": false
   },
   "outputs": [],
   "source": [
    "# dictionary from loc -> time -> doserate for mext data\n",
    "#(doing this a really inefficient way)\n",
    "import dateutil.parser\n",
    "mloctime2dr = {}\n",
    "\n",
    "for loc,group in dfg:\n",
    "    loc = tuple(map(lambda t: round(t,6), loc))\n",
    "    mloctime2dr[loc] = {}\n",
    "    for ll, gg in group.groupby('datetime'):\n",
    "#         print(ll,gg)\n",
    "#         print(gg['doserate'].values)\n",
    "        mloctime2dr[loc][dateutil.parser.parse(ll)] = round(float(gg['doserate'].values[0]),5)\n",
    "#         break\n",
    "#     times = map(dateutil.parser.parse,tuple(set(group['datetime'])))\n",
    "#     mloc2time[loc] = tuple(times)\n",
    "#     mloctime2dr[loc] = \n"
   ]
  },
  {
   "cell_type": "code",
   "execution_count": 35,
   "metadata": {
    "collapsed": false
   },
   "outputs": [],
   "source": [
    "import pickle\n",
    "pickle.dump(mloctime2dr,open('mloctimes2dr_hash.pkl','wb'))"
   ]
  },
  {
   "cell_type": "code",
   "execution_count": 33,
   "metadata": {
    "collapsed": false
   },
   "outputs": [
    {
     "data": {
      "text/plain": [
       "0.021"
      ]
     },
     "execution_count": 33,
     "metadata": {},
     "output_type": "execute_result"
    }
   ],
   "source": [
    "mloctime2dr[(26.314722,127.895278)][datetime(2011, 4, 19, 15, 0)]"
   ]
  },
  {
   "cell_type": "code",
   "execution_count": 31,
   "metadata": {
    "collapsed": false
   },
   "outputs": [
    {
     "data": {
      "text/plain": [
       "0.03"
      ]
     },
     "execution_count": 31,
     "metadata": {},
     "output_type": "execute_result"
    }
   ],
   "source": [
    "round(float(gg['doserate'].values[0]),2)"
   ]
  },
  {
   "cell_type": "code",
   "execution_count": null,
   "metadata": {
    "collapsed": false
   },
   "outputs": [],
   "source": [
    "dft = df.groupby(['datetime'])"
   ]
  },
  {
   "cell_type": "code",
   "execution_count": null,
   "metadata": {
    "collapsed": false
   },
   "outputs": [],
   "source": [
    "for d, group in dft:\n",
    "    print(len(group['mloc_id']))"
   ]
  },
  {
   "cell_type": "code",
   "execution_count": null,
   "metadata": {
    "collapsed": false
   },
   "outputs": [],
   "source": [
    "import pickle\n",
    "pickle.dump(mloc2time,open('mloc_times_hash.pkl','wb'))"
   ]
  },
  {
   "cell_type": "code",
   "execution_count": null,
   "metadata": {
    "collapsed": true
   },
   "outputs": [],
   "source": []
  }
 ],
 "metadata": {
  "kernelspec": {
   "display_name": "Python 3",
   "language": "python",
   "name": "python3"
  },
  "language_info": {
   "codemirror_mode": {
    "name": "ipython",
    "version": 3
   },
   "file_extension": ".py",
   "mimetype": "text/x-python",
   "name": "python",
   "nbconvert_exporter": "python",
   "pygments_lexer": "ipython3",
   "version": "3.4.0"
  }
 },
 "nbformat": 4,
 "nbformat_minor": 0
}
