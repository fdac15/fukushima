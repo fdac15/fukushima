{
 "cells": [
  {
   "cell_type": "markdown",
   "metadata": {
    "collapsed": true
   },
   "source": [
    "This script calculates the distance of the safecast data points from every unique mext location"
   ]
  },
  {
   "cell_type": "code",
   "execution_count": 2,
   "metadata": {
    "collapsed": false
   },
   "outputs": [],
   "source": [
    "from math import cos, sqrt, sin, radians\n",
    "import pandas as pd\n",
    "import numpy as np\n",
    "import pickle\n",
    "import datetime\n",
    "import dateutil.parser\n",
    "\n",
    "mloc_hash = pickle.load(open('mloc_hash.pkl','rb')) #mext lat,long -> mloc_id\n",
    "mloc_hash_rev = pickle.load(open('mloc_hash_rev.pkl','rb')) #mloc_id -> mext lat,long\n",
    "\n",
    "mrad_hash = {} #mext lat,long in radians -> mloc_id\n",
    "for key in mloc_hash:\n",
    "    mrad_hash[tuple(map(radians,key))] = mloc_hash[key]\n",
    "    \n",
    "mext_rad = list(mrad_hash.keys())\n",
    "\n",
    "def equirect_approx(lat1,lng1,lat2,lng2):\n",
    "    \"\"\"\n",
    "    values must be in radians\"\"\"\n",
    "    x = (lng2-lng1)*cos((lat1+lat2)/2.0)\n",
    "    y = lat2-lat1\n",
    "    return sqrt(x*x + y*y) * 6371.0 #earth radius in km\n",
    "\n",
    "def haversine_distance(lat1,lng1,lat2,lng2):\n",
    "    R = 6731.0 #radius of Earth in km\n",
    "    dlon = lng2 - lng1\n",
    "    dlat = lat2 - lat1\n",
    "    a = (sin(dlat/2))**2 + cos(lat1) * cos(lat2) * sin(dlon/2)**2 \n",
    "    c = 2 * np.arctan2(sqrt(a), sqrt(1-a)) \n",
    "    return 6731.0 * c\n",
    "\n",
    "def dist_from_all_mext(latd,lngd):\n",
    "    \"\"\"\n",
    "    inputs are in degrees\"\"\"\n",
    "    \n",
    "    lat,lng = map(radians, (latd,lngd))\n",
    "#     return [round(equirect_approx(m[0],m[1],lat,lng),5) for m in mext_rad] #rounded to save disk space and time, equirect approximation\n",
    "    return [round(haversine_distance(m[0],m[1],lat,lng),5) for m in mext_rad] #haversine formula\n",
    "#     return [equirect_approx(m[0],m[1],lat,lng) for m in mext_rad] #unrounded\n",
    "\n",
    "def min_distance(mext_distances):\n",
    "    \"\"\"\n",
    "    returns the minimum distance from any point, lat of that point, long of that point\n",
    "    \"\"\"\n",
    "    ind = np.argmin(mext_distances)\n",
    "    mloc_id = mrad_hash[mext_rad[ind]]\n",
    "#     return [mext_distances[ind],loc[0],loc[1]]\n",
    "    loc = mloc_hash_rev[mloc_id]\n",
    "    return [mext_distances[ind],loc[0],loc[1],mloc_id] #saves the mext location as a number corresponding to the index in mext_rad list object\n",
    "\n",
    "mloc_times_hash = pickle.load(open('mloc_times_hash.pkl','rb')) #mext lat, long -> list of times\n",
    "\n",
    "def closest_time(mloc_id,sftime):\n",
    "    \"\"\"\n",
    "    returns the closest mext time for that mext location and the time difference from safecast time\"\"\"\n",
    "    mloc = mloc_hash_rev[mloc_id]\n",
    "    diff = []\n",
    "    sftime = dateutil.parser.parse(sftime)\n",
    "    for mtime in mloc_times_hash[mloc]:\n",
    "        tdiff = sftime - mtime\n",
    "        diff.append(abs(tdiff.total_seconds()))\n",
    "#     print(diff)\n",
    "#     print(np.argmin(diff),min(diff))\n",
    "#     print(diff[890])\n",
    "    close_time = mloc_times_hash[mloc][np.argmin(diff)]\n",
    "    return [close_time,min(diff)]"
   ]
  },
  {
   "cell_type": "code",
   "execution_count": 73,
   "metadata": {
    "collapsed": false
   },
   "outputs": [],
   "source": [
    "#goes through the safecast data (time filtered) and calculates the closest point of all the mext points\n",
    "#saves two separate files\n",
    "#1. all the safecast data plus closest point information\n",
    "#2. only closest point information\n",
    "\n",
    "import timeit\n",
    "import csv\n",
    "from math import radians\n",
    "\n",
    "\n",
    "\n",
    "def main():\n",
    "    t = timeit.default_timer()\n",
    "    with open('safecast2.csv','w') as wf:\n",
    "        writer = csv.writer(wf)\n",
    "        with open('safecast_data_datefiltered.csv','r') as sf:\n",
    "            i=0\n",
    "            #write header: distance from point at:, lat, long, mloc_id\n",
    "            writer.writerow(next(sf).strip().split(',')+['distance','mlat','mlong','mloc_id','mtime','timediff','mdr','drdiff'])\n",
    "            for line in sf:\n",
    "                i+=1\n",
    "                l=line.split(',')\n",
    "                l[5] = l[5].strip()\n",
    "    #             print(dist_from_all_mext(*map(float,(l[1:3])))[0])\n",
    "                try:\n",
    "    #                 writer.writerow(dist_from_all_mext(*map(float,(l[1:3])))) #only write distances\n",
    "                    dist_lat_long = min_distance(dist_from_all_mext(*map(float,(l[1:3]))))\n",
    "                    ctime= closest_time(dist_lat_long[-1],l[-1])\n",
    "#                     mdr = mloctimes2dr[(dist_lat_long[1],dist_lat_long[2])][ctime[0]]\n",
    "#                     drdiff = mdr - round(float(l[4]),5)\n",
    "#                     writer.writerow(l+dist_lat_long+ctime+[mdr,drdiff])\n",
    "                except ValueError:\n",
    "                    raise\n",
    "                    writer.writerow(['nan']*3)\n",
    "                    dwriter.writerow(l+['nan']*3)\n",
    "                break\n",
    "                if i%100000==0:\n",
    "#                 if i%1000==0:\n",
    "                    print(i,timeit.default_timer()-t)\n",
    "#                     break\n"
   ]
  },
  {
   "cell_type": "code",
   "execution_count": 5,
   "metadata": {
    "collapsed": false
   },
   "outputs": [
    {
     "name": "stdout",
     "output_type": "stream",
     "text": [
      "100000 10.73643597587943\n",
      "200000 21.4968832321465\n",
      "300000 32.393808927387\n",
      "400000 44.17645039781928\n",
      "500000 55.42147144675255\n",
      "600000 66.36579755321145\n",
      "700000 77.37134133651853\n",
      "800000 88.29467448219657\n",
      "900000 99.24919581413269\n",
      "1000000 110.24152001738548\n",
      "1100000 121.70414825901389\n",
      "1200000 133.03607867658138\n",
      "1300000 145.10657830536366\n",
      "1400000 156.76738172397017\n",
      "1500000 167.5400036536157\n",
      "1600000 179.1456928998232\n",
      "1700000 190.79187834635377\n",
      "1800000 201.35507857427\n",
      "1900000 211.8077475465834\n",
      "2000000 222.49953078851104\n",
      "2100000 233.03681899607182\n"
     ]
    }
   ],
   "source": [
    "#takes the safecast2.csv made above and adds on the mext doserate and doserate difference for the mext loc,time listed\n",
    "#in each row of safecast2.csv\n",
    "\n",
    "import timeit\n",
    "import csv\n",
    "import pickle\n",
    "import dateutil.parser\n",
    "mloctimes2dr = pickle.load(open('mloctimes2dr_hash.pkl','rb'))\n",
    "t = timeit.default_timer()\n",
    "with open('safecast3.csv','w') as wf:\n",
    "    writer = csv.writer(wf)\n",
    "    j=0\n",
    "    with open('safecast2.csv','r') as rf:\n",
    "        writer.writerow(next(rf).strip().split(',')+['mdr','drdiff'])\n",
    "        for line in rf:\n",
    "            l=line.split(',')\n",
    "            l[-1] = l[-1].strip()\n",
    "            j+=1\n",
    "            mloc = (float(l[7]),float(l[8]))\n",
    "            mtime = dateutil.parser.parse(l[10])\n",
    "            mdr = mloctimes2dr[mloc][mtime]\n",
    "            drdiff = mdr - float(l[4]) #'drdiff' column is mext doserate - safecast doserate\n",
    "            writer.writerow(l+[mdr,round(drdiff,5)])\n",
    "            if j%100000==0:\n",
    "                print(j,timeit.default_timer()-t)\n",
    "#                 break\n"
   ]
  },
  {
   "cell_type": "code",
   "execution_count": 80,
   "metadata": {
    "collapsed": false
   },
   "outputs": [
    {
     "data": {
      "text/plain": [
       "(35.706461, 139.697927)"
      ]
     },
     "execution_count": 80,
     "metadata": {},
     "output_type": "execute_result"
    }
   ],
   "source": [
    "mloc"
   ]
  },
  {
   "cell_type": "code",
   "execution_count": 74,
   "metadata": {
    "collapsed": false
   },
   "outputs": [],
   "source": [
    "main()"
   ]
  },
  {
   "cell_type": "code",
   "execution_count": 9,
   "metadata": {
    "collapsed": false
   },
   "outputs": [
    {
     "data": {
      "text/plain": [
       "datetime.timedelta(-1, 82800)"
      ]
     },
     "execution_count": 9,
     "metadata": {},
     "output_type": "execute_result"
    }
   ],
   "source": [
    "mtime - datetime.datetime(2011,11,2,4,0)"
   ]
  },
  {
   "cell_type": "code",
   "execution_count": null,
   "metadata": {
    "collapsed": true
   },
   "outputs": [],
   "source": []
  }
 ],
 "metadata": {
  "kernelspec": {
   "display_name": "Python 3",
   "language": "python",
   "name": "python3"
  },
  "language_info": {
   "codemirror_mode": {
    "name": "ipython",
    "version": 3
   },
   "file_extension": ".py",
   "mimetype": "text/x-python",
   "name": "python",
   "nbconvert_exporter": "python",
   "pygments_lexer": "ipython3",
   "version": "3.4.0"
  }
 },
 "nbformat": 4,
 "nbformat_minor": 0
}
