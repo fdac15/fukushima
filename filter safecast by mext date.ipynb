{
 "cells": [
  {
   "cell_type": "markdown",
   "metadata": {
    "collapsed": true
   },
   "source": [
    "This script saves the safecast data points that are within the range of the mext data"
   ]
  },
  {
   "cell_type": "code",
   "execution_count": 1,
   "metadata": {
    "collapsed": false
   },
   "outputs": [
    {
     "data": {
      "text/plain": [
       "count                  328595\n",
       "unique                   7024\n",
       "top       2011-11-01 03:00:00\n",
       "freq                       49\n",
       "first     2011-03-14 04:00:00\n",
       "last      2012-01-01 05:00:00\n",
       "Name: datetime, dtype: object"
      ]
     },
     "execution_count": 1,
     "metadata": {},
     "output_type": "execute_result"
    }
   ],
   "source": [
    "import pandas as pd\n",
    "dfm = pd.read_csv('mext_data.csv')\n",
    "# dfm.datetime = dfm.datetime.astype('datetime64[ns]')\n",
    "dfm.datetime = pd.to_datetime(dfm.datetime, format=\"%Y-%m-%d %H:%M:%S\")\n",
    "dfm.datetime.describe()"
   ]
  },
  {
   "cell_type": "code",
   "execution_count": 2,
   "metadata": {
    "collapsed": false
   },
   "outputs": [],
   "source": [
    "from datetime import datetime\n",
    "m_min = datetime.strptime('2011-03-14 04:00:00',\"%Y-%m-%d %H:%M:%S\")\n",
    "m_max = datetime.strptime('2012-01-01 05:00:00',\"%Y-%m-%d %H:%M:%S\")"
   ]
  },
  {
   "cell_type": "code",
   "execution_count": null,
   "metadata": {
    "collapsed": false
   },
   "outputs": [],
   "source": []
  },
  {
   "cell_type": "code",
   "execution_count": 3,
   "metadata": {
    "collapsed": false
   },
   "outputs": [
    {
     "name": "stdout",
     "output_type": "stream",
     "text": [
      "1000000 18.49971781599743\n",
      "2000000 34.95079693599837\n",
      "3000000 50.3708687210019\n",
      "4000000 66.33488406799734\n",
      "5000000 81.81462875299621\n",
      "6000000 98.11631772999681\n",
      "7000000 113.11883502500132\n",
      "8000000 128.5658360689995\n",
      "9000000 144.06264864499826\n",
      "10000000 160.52173126499838\n",
      "11000000 176.86834349499986\n",
      "12000000 192.83985139699507\n",
      "13000000 208.33422547199734\n",
      "14000000 223.81711274299596\n",
      "15000000 239.00685054800124\n",
      "16000000 255.56663475399546\n",
      "17000000 271.06622359500034\n",
      "18000000 286.6292084919987\n",
      "19000000 306.906326641998\n",
      "20000000 331.95145805899665\n",
      "21000000 359.00385305399686\n",
      "22000000 387.47760844599543\n",
      "23000000 404.5692617569948\n",
      "24000000 425.68700803400134\n",
      "25000000 443.132356090995\n",
      "26000000 459.3860105729982\n",
      "27000000 474.4218411490001\n",
      "28000000 491.47589731699554\n",
      "29000000 510.75498262199835\n",
      "30000000 527.017706011\n",
      "31000000 543.6740669869978\n",
      "32000000 569.5309961759995\n",
      "total lines 32073860\n",
      "lines within MEXT daterange 2117836\n"
     ]
    }
   ],
   "source": [
    "#saves the lines from the safecast data that are within the MEXT date range\n",
    "import timeit\n",
    "import dateutil.parser\n",
    "t = timeit.default_timer()\n",
    "with open('safecast_data_datefiltered.csv', 'w') as wf:\n",
    "    with open('safecast_data.csv','r') as sf:\n",
    "        wf.write(next(sf)) #write header\n",
    "        i = 0\n",
    "        j=0\n",
    "        for line in sf:\n",
    "            a = line.split(',')\n",
    "            if a[0] == 'User ID': #dont save extra header lines\n",
    "                continue\n",
    "            try:\n",
    "                dtime = datetime.strptime(a[-1].strip(),\"%Y-%m-%d %H:%M:%S\")\n",
    "            except ValueError:\n",
    "#                 print(line)\n",
    "                dtime = dateutil.parser.parse(a[-1].strip())\n",
    "            if m_min <= dtime <= m_max:\n",
    "                #within range, save it\n",
    "                wf.write(line)\n",
    "                j+=1\n",
    "            i+=1\n",
    "            if i % 1000000 == 0:\n",
    "                print(i, timeit.default_timer()-t)\n",
    "#                 print(j)\n",
    "#                 break\n",
    "print('total lines',i)\n",
    "print('lines within MEXT daterange', j)"
   ]
  },
  {
   "cell_type": "code",
   "execution_count": null,
   "metadata": {
    "collapsed": true
   },
   "outputs": [],
   "source": []
  }
 ],
 "metadata": {
  "kernelspec": {
   "display_name": "Python 3",
   "language": "python",
   "name": "python3"
  },
  "language_info": {
   "codemirror_mode": {
    "name": "ipython",
    "version": 3
   },
   "file_extension": ".py",
   "mimetype": "text/x-python",
   "name": "python",
   "nbconvert_exporter": "python",
   "pygments_lexer": "ipython3",
   "version": "3.4.0"
  }
 },
 "nbformat": 4,
 "nbformat_minor": 0
}
