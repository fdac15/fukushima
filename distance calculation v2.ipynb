{
 "cells": [
  {
   "cell_type": "markdown",
   "metadata": {
    "collapsed": true
   },
   "source": [
    "This script calculates the distance of the safecast data points from every unique mext location"
   ]
  },
  {
   "cell_type": "code",
   "execution_count": 1,
   "metadata": {
    "collapsed": false
   },
   "outputs": [],
   "source": [
    "from math import cos, sqrt, sin\n",
    "import pandas as pd\n",
    "import numpy as np\n",
    "\n",
    "mext_rad = [(0.5960859297184675,2.2939612326941052), #values copied from mext_loc_rad.csv\n",
    "                (0.6191568611419274,2.321510923324278),\n",
    "                (0.6225977254023566,2.418148826622823),\n",
    "                (0.6387957422176805,2.4424137552408647),\n",
    "                (0.4592785406469872,2.2321936988534685),\n",
    "                (0.6351592440013953,2.4508883061436784),\n",
    "                (0.6053383564156025,2.359161549920735),\n",
    "                (0.6000441968356506,2.3120085654782576),\n",
    "                (0.5555945354182943,2.2936360778544587),\n",
    "                (0.6166490673529068,2.432717473861655),\n",
    "                (0.6036915509998833,2.336440120679987),\n",
    "                (0.6680723314229464,2.459266741764585),\n",
    "                (0.580731151277952,2.273686475811973),\n",
    "                (0.626025429880226,2.436701554398475),\n",
    "                (0.6052121167508057,2.370479678507361),\n",
    "                (0.617980369599743,2.3883827249222502),\n",
    "                (0.6605295594478952,2.4250137999828625),\n",
    "                (0.6194755233567565,2.336734069032608),\n",
    "                (0.5857800048315361,2.3305786767332592),\n",
    "                (0.5512641815578787,2.2787808999123267),\n",
    "                (0.6200427553636546,2.4446632926604677),\n",
    "                (0.6106095998224758,2.3718827137864538),\n",
    "                (0.6405484367591183,2.392835740522496),\n",
    "                (0.6588680932664591,2.451653336314705),\n",
    "                (0.5995244901442841,2.3400475766175193),\n",
    "                (0.623195308684947,2.438188784360684),\n",
    "                (0.6394100981143827,2.4116726951668355),\n",
    "                (0.6108978758550277,2.4152896806020836),\n",
    "                (0.5905896784644271,2.3170033312783227),\n",
    "                (0.637518841883629,2.385965932600429),\n",
    "                (0.6353792951134868,2.4276827749283045),\n",
    "                (0.6052801845916335,2.365536853705835),\n",
    "                (0.6925112519141194,2.463238919155906),\n",
    "                (0.6296090969800533,2.3782152046450022),\n",
    "                (0.6107245646603046,2.382112629584461),\n",
    "                (0.6932350748615067,2.445666856980364),\n",
    "                (0.5971498649771907,2.359025798211515),\n",
    "                (0.5849017202453477,2.2776580248847638),\n",
    "                (0.594633676154468,2.348529580076239),\n",
    "                (0.6143995299333038,2.389792078293236),\n",
    "                (0.5787196593150287,2.2970908523890268),\n",
    "                (0.7126179335892847,2.4572829830834753),\n",
    "                (0.574896917014263,2.2685498671035993),\n",
    "                (0.6096774369222782,2.3694153592762017),\n",
    "                (0.6675641962645208,2.4493029537709217),\n",
    "                (0.6675641962645208,2.4493029537709217),\n",
    "                (0.7519392242523358,2.4667271516522344),\n",
    "                (0.5787196593150287,2.2803260049925322)]\n",
    "\n",
    "def equirect_approx(lat1,lng1,lat2,lng2):\n",
    "    \"\"\"\n",
    "    values must be in radians\"\"\"\n",
    "    x = (lng2-lng1)*cos((lat1+lat2)/2.0)\n",
    "    y = lat2-lat1\n",
    "    return sqrt(x*x + y*y) * 6371.0 #earth radius in km\n",
    "\n",
    "def haversine_distance(lat1,lng1,lat2,lng2):\n",
    "    R = 6731.0 #radius of Earth in km\n",
    "    dlon = lng2 - lng1\n",
    "    dlat = lat2 - lat1\n",
    "    a = (sin(dlat/2))**2 + cos(lat1) * cos(lat2) * sin(dlon/2)**2 \n",
    "    c = 2 * np.arctan2(sqrt(a), sqrt(1-a)) \n",
    "    return 6731.0 * c\n",
    "\n",
    "def dist_from_all_mext(latd,lngd):\n",
    "    \"\"\"\n",
    "    inputs are in degrees\"\"\"\n",
    "    \n",
    "    lat,lng = map(radians, (latd,lngd))\n",
    "#     return [round(equirect_approx(m[0],m[1],lat,lng),5) for m in mext_rad] #rounded to save disk space and time, equirect approximation\n",
    "    return [round(haversine_distance(m[0],m[1],lat,lng),5) for m in mext_rad] #haversine formula\n",
    "#     return [equirect_approx(m[0],m[1],lat,lng) for m in mext_rad] #unrounded\n",
    "\n",
    "def min_distance(mext_distances):\n",
    "    \"\"\"\n",
    "    returns the minimum distance from any point, lat of that point, long of that point\n",
    "    \"\"\"\n",
    "    ind = np.argmin(mext_distances)\n",
    "#     loc = mext_rad[ind]\n",
    "#     return [mext_distances[ind],loc[0],loc[1]]\n",
    "    return [mext_distances[ind],ind] #saves the mext location as a number corresponding to the index in mext_rad list object"
   ]
  },
  {
   "cell_type": "code",
   "execution_count": 3,
   "metadata": {
    "collapsed": true
   },
   "outputs": [],
   "source": []
  },
  {
   "cell_type": "code",
   "execution_count": 6,
   "metadata": {
    "collapsed": false
   },
   "outputs": [
    {
     "name": "stdout",
     "output_type": "stream",
     "text": [
      "100000 36.050405745001626\n",
      "200000 76.57824690399866\n",
      "300000 111.69045346900384\n",
      "400000 150.1384815679994\n",
      "500000 189.27876615199784\n",
      "600000 226.50824566800293\n",
      "700000 267.87348839199694\n",
      "800000 304.5248522559996\n",
      "900000 340.20368423999753\n",
      "1000000 374.6853878050024\n",
      "1100000 416.51570078400255\n",
      "1200000 454.60368899699824\n",
      "1300000 489.8141300350035\n",
      "1400000 525.9596874010022\n",
      "1500000 562.0809432469978\n",
      "1600000 598.5152850480008\n",
      "1700000 635.3528140760027\n",
      "1800000 671.3238133170016\n",
      "1900000 706.4694633670006\n",
      "2000000 741.5637312269973\n",
      "2100000 777.1593653700038\n"
     ]
    }
   ],
   "source": [
    "#goes through the safecast data (time filtered) and calculates the closest point of all the mext points\n",
    "#saves two separate files\n",
    "#1. all the safecast data plus closest point information\n",
    "#2. only closest point information\n",
    "\n",
    "import timeit\n",
    "import csv\n",
    "from math import radians\n",
    "t = timeit.default_timer()\n",
    "with open('safecast_data_and_dists.csv','w') as dwf:\n",
    "    dwriter = csv.writer(dwf)\n",
    "    with open('safecast_dists.csv','w') as wf:\n",
    "        writer = csv.writer(wf)\n",
    "        with open('safecast_data_datefiltered.csv','r') as sf:\n",
    "            i=0\n",
    "            #write header: distance from point at:, lat, long\n",
    "            dwriter.writerow(next(sf).strip().split(',')+['distance','mlat','mlong'])\n",
    "            writer.writerow(['distance','mlat','mlong'])\n",
    "            for line in sf:\n",
    "                i+=1\n",
    "                l=line.split(',')\n",
    "                l[5] = l[5].strip()\n",
    "    #             print(dist_from_all_mext(*map(float,(l[1:3])))[0])\n",
    "                try:\n",
    "    #                 writer.writerow(dist_from_all_mext(*map(float,(l[1:3])))) #only write distances\n",
    "                    dist_lat_long = min_distance(dist_from_all_mext(*map(float,(l[1:3]))))\n",
    "                    dwriter.writerow(l+dist_lat_long)\n",
    "                    writer.writerow(dist_lat_long)\n",
    "                except ValueError:\n",
    "                    writer.writerow(['nan']*3)\n",
    "                    dwriter.writerow(l+['nan']*3)\n",
    "#                 if i%1000000==0:\n",
    "                if i%100000==0:\n",
    "                    print(i,timeit.default_timer()-t)\n",
    "#                     break\n"
   ]
  },
  {
   "cell_type": "code",
   "execution_count": null,
   "metadata": {
    "collapsed": true
   },
   "outputs": [],
   "source": []
  }
 ],
 "metadata": {
  "kernelspec": {
   "display_name": "Python 3",
   "language": "python",
   "name": "python3"
  },
  "language_info": {
   "codemirror_mode": {
    "name": "ipython",
    "version": 3
   },
   "file_extension": ".py",
   "mimetype": "text/x-python",
   "name": "python",
   "nbconvert_exporter": "python",
   "pygments_lexer": "ipython3",
   "version": "3.4.0"
  }
 },
 "nbformat": 4,
 "nbformat_minor": 0
}
