{
 "cells": [
  {
   "cell_type": "code",
   "execution_count": 1,
   "metadata": {
    "collapsed": true
   },
   "outputs": [],
   "source": [
    "import pymongo\n",
    "import json\n",
    "import csv\n",
    "import pandas as pd\n",
    "import timeit"
   ]
  },
  {
   "cell_type": "code",
   "execution_count": null,
   "metadata": {
    "collapsed": true
   },
   "outputs": [],
   "source": [
    "client = pymongo.MongoClient()\n",
    "db = client['fukushima'] #make database"
   ]
  },
  {
   "cell_type": "markdown",
   "metadata": {},
   "source": [
    "#MEXT Data"
   ]
  },
  {
   "cell_type": "code",
   "execution_count": 2,
   "metadata": {
    "collapsed": false
   },
   "outputs": [
    {
     "name": "stdout",
     "output_type": "stream",
     "text": [
      "Processed ~3.500e+05 lines (7 chunks) in 12.38 sec\n",
      "Approximately 2.83e+04 lines/sec\n"
     ]
    }
   ],
   "source": [
    "\n",
    "mcol = db['mext'] #make collection for mext\n",
    "mcol.remove()\n",
    "\n",
    "chunks = pd.read_csv('original_data/mext_gammadoseratereadingsbyprefecture.csv',chunksize=50000, usecols=['Time Date JST', 'Dose Rate',\n",
    "       'Latitude', 'Longitude','Comments'])\n",
    "f = open('mext_data.csv','w')\n",
    "start = timeit.default_timer()\n",
    "i = 0\n",
    "for c in chunks:\n",
    "    c = c[c.Comments.isnull()] #remove malfunctioning data\n",
    "    c = c.drop('Comments',axis=1)\n",
    "    c['Dose Rate'] = c['Dose Rate'].astype('float64')\n",
    "    c['Time Date JST'] = c['Time Date JST'].astype('datetime64[ns]')\n",
    "    c.columns = ['datetime','doserate','lat','long']\n",
    "    data_json = json.loads(c.to_json(orient='records',date_format='iso'))\n",
    "    mcol.insert(data_json)\n",
    "    c.to_csv(f,index=False)\n",
    "    i += 1\n",
    "f.close()\n",
    "elapsed = timeit.default_timer()-start\n",
    "print('Processed ~{:.3e} lines ({} chunks) in {:.2f} sec'.format(i*50000,i,elapsed))\n",
    "print('Approximately {:.2e} lines/sec'.format(i*50000/elapsed))\n",
    "    \n",
    "    "
   ]
  },
  {
   "cell_type": "markdown",
   "metadata": {},
   "source": [
    "#Safecast Data"
   ]
  },
  {
   "cell_type": "code",
   "execution_count": 3,
   "metadata": {
    "collapsed": false
   },
   "outputs": [],
   "source": [
    "\n",
    "# device_id  uSvh=CPM/x      Reciprocal Estimate\n",
    "# -- =================  ==========     ====================\n",
    "# --              NULL       350.0       0.0028571428571429\n",
    "# --5,15,16,17,18,22,69,89   350.0       0.0028571428571429\n",
    "# --      6,7,11,13,23       100.0                     0.01\n",
    "# --   4,9,10,12,19,24       132.0       0.0075757575757576\n",
    "# --                21      1750.0    0.0005714285714285714\n",
    "# --  21 & user_id=530     11000.0    0.0000909090909090909  *** TEMPORARY ***\n",
    "def convert_cpm(row):\n",
    "    \"\"\"This function is based on the above table taken from safecast's publicly available code to\n",
    "    convert cpm to uSv/h. MEXT doserates are already in uSv/h\"\"\"\n",
    "    conversion_dict = {\n",
    "        5: 0.0028571428571429,\n",
    "        15: 0.0028571428571429,\n",
    "        16: 0.0028571428571429,\n",
    "        17: 0.0028571428571429,\n",
    "        18: 0.0028571428571429,\n",
    "        22: 0.0028571428571429,\n",
    "        69: 0.0028571428571429,\n",
    "        89: 0.0028571428571429,\n",
    "        6: 0.01,\n",
    "        7: 0.01,\n",
    "        11: 0.01,\n",
    "        13: 0.01,\n",
    "        23: 0.01,\n",
    "        4:0.0075757575757576,\n",
    "        9:0.0075757575757576,\n",
    "        10:0.0075757575757576,\n",
    "        12:0.0075757575757576,\n",
    "        19:0.0075757575757576,\n",
    "        24:0.0075757575757576,\n",
    "        21:0.0005714285714285714}\n",
    "    did = row['Device ID']\n",
    "    try:\n",
    "        if pd.isnull(did):\n",
    "#             print('nan')\n",
    "            m = 0.0028571428571429\n",
    "            return row['Value']*m\n",
    "        else:\n",
    "            m = conversion_dict[did]\n",
    "            if row['Value'] == 'cpm':\n",
    "                return row['Value']*m\n",
    "            else:\n",
    "                raise KeyError\n",
    "    except KeyError:\n",
    "#         print('keyerr')\n",
    "        return np.nan\n",
    "        "
   ]
  },
  {
   "cell_type": "code",
   "execution_count": null,
   "metadata": {
    "collapsed": true
   },
   "outputs": [],
   "source": [
    "scol = db['safecast'] #make collection for safecast\n",
    "# scol.remove()\n",
    "chunks = pd.read_csv('original_data/mclean.csv',chunksize=50000, usecols=['User ID', 'Captured Time', 'Latitude', 'Longitude', 'Value',\n",
    "       'Unit', 'Device ID'])\n",
    "i = 0\n",
    "f = open('safecast_data.csv','w')\n",
    "start = timeit.default_timer()\n",
    "for c in chunks:\n",
    "    c['doserate'] = c.apply(convert_cpm, axis=1)\n",
    "    c['datetime'] = c['Captured Time'].astype('datetime64[ns]')\n",
    "    c.drop(['Captured Time','Value','Unit'], axis=1, inplace=True)\n",
    "    c.rename(columns={'Latitude': 'lat','Longitude': 'long'}, inplace=True)\n",
    "    data_json = json.loads(c.to_json(orient='records',date_format='iso'))\n",
    "    scol.insert(data_json)\n",
    "    c.to_csv(f,index=False)\n",
    "#     if c['Device ID'].any():\n",
    "#         print(c['Device ID'].value_counts())\n",
    "#         print(i)\n",
    "#         break\n",
    "    \n",
    "    \n",
    "    i += 1\n",
    "    if i % 100 == 0:\n",
    "        print(i)\n",
    "#     if i ==20:\n",
    "#         break\n",
    "f.close()\n",
    "elapsed = timeit.default_timer()-start\n",
    "print('Processed ~{:.3e} lines ({} chunks) in {:.2f} sec'.format(i*50000,i,elapsed))\n",
    "print('Approximately {:.2e} lines/sec'.format(i*50000/elapsed))"
   ]
  },
  {
   "cell_type": "code",
   "execution_count": 6,
   "metadata": {
    "collapsed": false
   },
   "outputs": [
    {
     "data": {
      "text/plain": [
       "Collection(Database(MongoClient('localhost', 27017), 'fukushima'), 'safecast')"
      ]
     },
     "execution_count": 6,
     "metadata": {},
     "output_type": "execute_result"
    }
   ],
   "source": []
  },
  {
   "cell_type": "code",
   "execution_count": null,
   "metadata": {
    "collapsed": false
   },
   "outputs": [],
   "source": [
    "#example query\n",
    "for i in mcol.find({'Dose Rate': {'$gt': 2.2}}):\n",
    "    print(i)"
   ]
  }
 ],
 "metadata": {
  "kernelspec": {
   "display_name": "Python 3",
   "language": "python",
   "name": "python3"
  },
  "language_info": {
   "codemirror_mode": {
    "name": "ipython",
    "version": 3
   },
   "file_extension": ".py",
   "mimetype": "text/x-python",
   "name": "python",
   "nbconvert_exporter": "python",
   "pygments_lexer": "ipython3",
   "version": "3.4.3"
  }
 },
 "nbformat": 4,
 "nbformat_minor": 0
}
