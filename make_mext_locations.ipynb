{
 "cells": [
  {
   "cell_type": "code",
   "execution_count": null,
   "metadata": {
    "collapsed": true
   },
   "outputs": [],
   "source": [
    "from math import radians\n",
    "import csv\n",
    "df=pd.read_csv('mext_data.csv')\n",
    "gb=df.groupby(['lat','long'])\n",
    "import pandas as pd\n",
    "with open('mext_loc_rad.csv','w') as f:\n",
    "    r = csv.writer(f)\n",
    "    for i in gb.groups.keys():\n",
    "        try:\n",
    "            a = (radians(float(i[0])),radians(float(i[1])))\n",
    "        except ValueError:\n",
    "            pass\n",
    "        r.writerow(a)\n",
    "    "
   ]
  }
 ],
 "metadata": {
  "kernelspec": {
   "display_name": "Python 3",
   "language": "python",
   "name": "python3"
  },
  "language_info": {
   "codemirror_mode": {
    "name": "ipython",
    "version": 3
   },
   "file_extension": ".py",
   "mimetype": "text/x-python",
   "name": "python",
   "nbconvert_exporter": "python",
   "pygments_lexer": "ipython3",
   "version": "3.4.0"
  }
 },
 "nbformat": 4,
 "nbformat_minor": 0
}
