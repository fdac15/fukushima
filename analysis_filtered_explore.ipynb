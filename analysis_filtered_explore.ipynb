{
 "cells": [
  {
   "cell_type": "markdown",
   "metadata": {},
   "source": [
    "This notebook explores the filtered data we will use for analysis (safecast measurements within 500m and 1 hr of a mext measurement)"
   ]
  },
  {
   "cell_type": "code",
   "execution_count": 1,
   "metadata": {
    "collapsed": true
   },
   "outputs": [],
   "source": [
    "import pandas as pd"
   ]
  },
  {
   "cell_type": "code",
   "execution_count": 2,
   "metadata": {
    "collapsed": true
   },
   "outputs": [],
   "source": [
    "df = pd.read_csv('combined_500m_1hr.csv')"
   ]
  },
  {
   "cell_type": "code",
   "execution_count": 6,
   "metadata": {
    "collapsed": false
   },
   "outputs": [
    {
     "data": {
      "text/plain": [
       "23    922\n",
       "25    589\n",
       "27    260\n",
       "11    124\n",
       "35     43\n",
       "31     32\n",
       "9       6\n",
       "dtype: int64"
      ]
     },
     "execution_count": 6,
     "metadata": {},
     "output_type": "execute_result"
    }
   ],
   "source": [
    "df.mloc_id.value_counts()"
   ]
  },
  {
   "cell_type": "code",
   "execution_count": 7,
   "metadata": {
    "collapsed": true
   },
   "outputs": [],
   "source": [
    "df2 = df[(df.mloc_id == 23) | (df.mloc_id == 25)]"
   ]
  },
  {
   "cell_type": "markdown",
   "metadata": {},
   "source": [
    "There is a large variance in time, so we should only average safecast measurements over each "
   ]
  },
  {
   "cell_type": "code",
   "execution_count": 9,
   "metadata": {
    "collapsed": false
   },
   "outputs": [
    {
     "name": "stdout",
     "output_type": "stream",
     "text": [
      "(23, '2011-05-06 14:00:00') 15\n",
      "(23, '2011-05-07 20:00:00') 40\n",
      "(23, '2011-06-27 15:00:00') 93\n",
      "(23, '2011-07-07 09:00:00') 63\n",
      "(23, '2011-07-12 08:00:00') 50\n",
      "(23, '2011-07-22 00:00:00') 40\n",
      "(23, '2011-08-13 07:00:00') 44\n",
      "(23, '2011-08-25 08:00:00') 21\n",
      "(23, '2011-09-14 06:00:00') 54\n",
      "(23, '2011-09-24 07:00:00') 20\n",
      "(23, '2011-10-15 07:00:00') 58\n",
      "(23, '2011-10-15 08:00:00') 139\n",
      "(23, '2011-10-31 10:00:00') 155\n",
      "(23, '2011-10-31 11:00:00') 49\n",
      "(23, '2011-11-05 03:00:00') 22\n",
      "(23, '2011-11-19 06:00:00') 36\n",
      "(23, '2011-12-19 06:00:00') 23\n",
      "(25, '2011-11-16 10:00:00') 79\n",
      "(25, '2011-11-16 11:00:00') 22\n",
      "(25, '2011-11-16 12:00:00') 350\n",
      "(25, '2011-11-18 04:00:00') 11\n",
      "(25, '2011-11-18 05:00:00') 79\n",
      "(25, '2011-12-15 23:00:00') 18\n",
      "(25, '2011-12-22 23:00:00') 9\n",
      "(25, '2011-12-23 02:00:00') 6\n",
      "(25, '2011-12-23 03:00:00') 15\n"
     ]
    }
   ],
   "source": [
    "for i,g in df2.groupby(['mloc_id','mtime']):\n",
    "    print(i,len(g.index))"
   ]
  },
  {
   "cell_type": "code",
   "execution_count": null,
   "metadata": {
    "collapsed": true
   },
   "outputs": [],
   "source": []
  }
 ],
 "metadata": {
  "kernelspec": {
   "display_name": "Python 3",
   "language": "python",
   "name": "python3"
  },
  "language_info": {
   "codemirror_mode": {
    "name": "ipython",
    "version": 3
   },
   "file_extension": ".py",
   "mimetype": "text/x-python",
   "name": "python",
   "nbconvert_exporter": "python",
   "pygments_lexer": "ipython3",
   "version": "3.4.3"
  }
 },
 "nbformat": 4,
 "nbformat_minor": 0
}
